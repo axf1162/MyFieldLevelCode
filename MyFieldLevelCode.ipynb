{
  "cells": [
    {
      "cell_type": "code",
      "execution_count": null,
      "id": "859a56cc",
      "metadata": {
        "id": "859a56cc",
        "outputId": "6ae231e2-394d-45c7-dd5d-25c559daee59"
      },
      "outputs": [
        {
          "data": {
            "text/html": [
              "<style>.container { width:98% !important; }</style>"
            ],
            "text/plain": [
              "<IPython.core.display.HTML object>"
            ]
          },
          "metadata": {},
          "output_type": "display_data"
        }
      ],
      "source": [
        "from IPython.display import display, HTML, Markdown\n",
        "display(HTML(\"<style>.container { width:98% !important; }</style>\"))\n",
        "\n",
        "import pandas as pd\n",
        "pd.set_option(\"display.max_columns\",999)\n",
        "pd.options.display.max_rows = 9999\n",
        "pd.set_option('display.float_format', lambda x: '%.3f' % x)"
      ]
    },
    {
      "cell_type": "code",
      "execution_count": null,
      "id": "15c7e96a",
      "metadata": {
        "scrolled": true,
        "id": "15c7e96a",
        "outputId": "4cfdca75-24e0-4aad-f0ce-be123142cf67"
      },
      "outputs": [
        {
          "data": {
            "text/html": [
              "<div>\n",
              "<style scoped>\n",
              "    .dataframe tbody tr th:only-of-type {\n",
              "        vertical-align: middle;\n",
              "    }\n",
              "\n",
              "    .dataframe tbody tr th {\n",
              "        vertical-align: top;\n",
              "    }\n",
              "\n",
              "    .dataframe thead th {\n",
              "        text-align: right;\n",
              "    }\n",
              "</style>\n",
              "<table border=\"1\" class=\"dataframe\">\n",
              "  <thead>\n",
              "    <tr style=\"text-align: right;\">\n",
              "      <th></th>\n",
              "      <th>LogId</th>\n",
              "      <th>EmailSentDateTimeUtc</th>\n",
              "      <th>EmailCampaignId</th>\n",
              "      <th>EmailOpenedDateTimeUtc</th>\n",
              "      <th>EmailClickedDateTimeUtc</th>\n",
              "      <th>UserId</th>\n",
              "      <th>ZipCode</th>\n",
              "      <th>AddressData</th>\n",
              "    </tr>\n",
              "  </thead>\n",
              "  <tbody>\n",
              "    <tr>\n",
              "      <th>0</th>\n",
              "      <td>208728980120</td>\n",
              "      <td>2019-07-31 15:13:25.817</td>\n",
              "      <td>792229022220</td>\n",
              "      <td>NaN</td>\n",
              "      <td>NaN</td>\n",
              "      <td>851332105693</td>\n",
              "      <td>NaN</td>\n",
              "      <td>NaN</td>\n",
              "    </tr>\n",
              "    <tr>\n",
              "      <th>1</th>\n",
              "      <td>292563123584</td>\n",
              "      <td>2019-08-02 02:15:52.447</td>\n",
              "      <td>866429603262</td>\n",
              "      <td>2019-08-02 15:16:01.7533333</td>\n",
              "      <td>NaN</td>\n",
              "      <td>369293054977</td>\n",
              "      <td>NaN</td>\n",
              "      <td>NaN</td>\n",
              "    </tr>\n",
              "    <tr>\n",
              "      <th>2</th>\n",
              "      <td>72552047640</td>\n",
              "      <td>2019-08-07 16:21:37.293</td>\n",
              "      <td>383130475294</td>\n",
              "      <td>NaN</td>\n",
              "      <td>NaN</td>\n",
              "      <td>938684493058</td>\n",
              "      <td>NaN</td>\n",
              "      <td>NaN</td>\n",
              "    </tr>\n",
              "    <tr>\n",
              "      <th>3</th>\n",
              "      <td>1089121462891</td>\n",
              "      <td>2019-08-07 16:38:03.323</td>\n",
              "      <td>792229022220</td>\n",
              "      <td>NaN</td>\n",
              "      <td>NaN</td>\n",
              "      <td>50233193142</td>\n",
              "      <td>NaN</td>\n",
              "      <td>NaN</td>\n",
              "    </tr>\n",
              "    <tr>\n",
              "      <th>4</th>\n",
              "      <td>828770719378</td>\n",
              "      <td>2019-08-12 11:45:43.293</td>\n",
              "      <td>479810600058</td>\n",
              "      <td>NaN</td>\n",
              "      <td>NaN</td>\n",
              "      <td>369293054977</td>\n",
              "      <td>NaN</td>\n",
              "      <td>NaN</td>\n",
              "    </tr>\n",
              "  </tbody>\n",
              "</table>\n",
              "</div>"
            ],
            "text/plain": [
              "           LogId     EmailSentDateTimeUtc  EmailCampaignId  \\\n",
              "0   208728980120  2019-07-31 15:13:25.817     792229022220   \n",
              "1   292563123584  2019-08-02 02:15:52.447     866429603262   \n",
              "2    72552047640  2019-08-07 16:21:37.293     383130475294   \n",
              "3  1089121462891  2019-08-07 16:38:03.323     792229022220   \n",
              "4   828770719378  2019-08-12 11:45:43.293     479810600058   \n",
              "\n",
              "        EmailOpenedDateTimeUtc EmailClickedDateTimeUtc        UserId  ZipCode  \\\n",
              "0                          NaN                     NaN  851332105693      NaN   \n",
              "1  2019-08-02 15:16:01.7533333                     NaN  369293054977      NaN   \n",
              "2                          NaN                     NaN  938684493058      NaN   \n",
              "3                          NaN                     NaN   50233193142      NaN   \n",
              "4                          NaN                     NaN  369293054977      NaN   \n",
              "\n",
              "  AddressData  \n",
              "0         NaN  \n",
              "1         NaN  \n",
              "2         NaN  \n",
              "3         NaN  \n",
              "4         NaN  "
            ]
          },
          "metadata": {},
          "output_type": "display_data"
        },
        {
          "data": {
            "text/html": [
              "<div>\n",
              "<style scoped>\n",
              "    .dataframe tbody tr th:only-of-type {\n",
              "        vertical-align: middle;\n",
              "    }\n",
              "\n",
              "    .dataframe tbody tr th {\n",
              "        vertical-align: top;\n",
              "    }\n",
              "\n",
              "    .dataframe thead th {\n",
              "        text-align: right;\n",
              "    }\n",
              "</style>\n",
              "<table border=\"1\" class=\"dataframe\">\n",
              "  <thead>\n",
              "    <tr style=\"text-align: right;\">\n",
              "      <th></th>\n",
              "      <th>UserId</th>\n",
              "      <th>DateOfActivityPST</th>\n",
              "      <th>ActivityCount</th>\n",
              "    </tr>\n",
              "  </thead>\n",
              "  <tbody>\n",
              "    <tr>\n",
              "      <th>0</th>\n",
              "      <td>241710509395</td>\n",
              "      <td>2019-09-24</td>\n",
              "      <td>29</td>\n",
              "    </tr>\n",
              "    <tr>\n",
              "      <th>1</th>\n",
              "      <td>241710509395</td>\n",
              "      <td>2020-09-11</td>\n",
              "      <td>60</td>\n",
              "    </tr>\n",
              "    <tr>\n",
              "      <th>2</th>\n",
              "      <td>435228414681</td>\n",
              "      <td>2018-01-06</td>\n",
              "      <td>12</td>\n",
              "    </tr>\n",
              "    <tr>\n",
              "      <th>3</th>\n",
              "      <td>435228414681</td>\n",
              "      <td>2018-04-20</td>\n",
              "      <td>20</td>\n",
              "    </tr>\n",
              "    <tr>\n",
              "      <th>4</th>\n",
              "      <td>435228414681</td>\n",
              "      <td>2018-05-10</td>\n",
              "      <td>136</td>\n",
              "    </tr>\n",
              "  </tbody>\n",
              "</table>\n",
              "</div>"
            ],
            "text/plain": [
              "         UserId DateOfActivityPST  ActivityCount\n",
              "0  241710509395        2019-09-24             29\n",
              "1  241710509395        2020-09-11             60\n",
              "2  435228414681        2018-01-06             12\n",
              "3  435228414681        2018-04-20             20\n",
              "4  435228414681        2018-05-10            136"
            ]
          },
          "metadata": {},
          "output_type": "display_data"
        }
      ],
      "source": [
        "df_emails = pd.read_csv('email_data.csv',delimiter=',')\n",
        "display(df_emails.head())\n",
        "df_activity = pd.read_csv('activity_data.csv',delimiter=',')\n",
        "display(df_activity.head())"
      ]
    },
    {
      "cell_type": "code",
      "execution_count": null,
      "id": "da649f03",
      "metadata": {
        "scrolled": true,
        "id": "da649f03",
        "outputId": "1579174e-2581-4227-f3b3-6c0fffc5397f"
      },
      "outputs": [
        {
          "data": {
            "text/plain": [
              "LogId                      474163\n",
              "EmailSentDateTimeUtc       474163\n",
              "EmailCampaignId            474163\n",
              "EmailOpenedDateTimeUtc     139822\n",
              "EmailClickedDateTimeUtc     23251\n",
              "UserId                     474163\n",
              "ZipCode                    322050\n",
              "AddressData                397932\n",
              "dtype: int64"
            ]
          },
          "execution_count": 3,
          "metadata": {},
          "output_type": "execute_result"
        }
      ],
      "source": [
        "#1: Number of rows in emails dataset\n",
        "df_emails.count()"
      ]
    },
    {
      "cell_type": "code",
      "execution_count": null,
      "id": "c8634cde",
      "metadata": {
        "id": "c8634cde",
        "outputId": "d82f50c0-d8f4-40b1-dc4b-3da9fcdfe8e9"
      },
      "outputs": [
        {
          "data": {
            "text/plain": [
              "UserId               4559973\n",
              "DateOfActivityPST    4559973\n",
              "ActivityCount        4559973\n",
              "dtype: int64"
            ]
          },
          "execution_count": 4,
          "metadata": {},
          "output_type": "execute_result"
        }
      ],
      "source": [
        "#1: Number of rows in activity dataset\n",
        "df_activity.count()"
      ]
    },
    {
      "cell_type": "code",
      "execution_count": null,
      "id": "9a9ff152",
      "metadata": {
        "id": "9a9ff152",
        "outputId": "6d5ba953-45b1-466a-d448-ca6293be2598"
      },
      "outputs": [
        {
          "data": {
            "text/plain": [
              "15805433.333333334"
            ]
          },
          "execution_count": 6,
          "metadata": {},
          "output_type": "execute_result"
        }
      ],
      "source": [
        "#1: Total emails sent over this period\n",
        "emails_in_dataset = df_emails.LogId.count()\n",
        "total_emails = emails_in_dataset/0.03 \n",
        "total_emails"
      ]
    },
    {
      "cell_type": "code",
      "execution_count": null,
      "id": "f1f120b8",
      "metadata": {
        "id": "f1f120b8",
        "outputId": "0d725c61-3c1c-4634-b3f1-93bf08c5bdce"
      },
      "outputs": [
        {
          "data": {
            "text/html": [
              "<div>\n",
              "<style scoped>\n",
              "    .dataframe tbody tr th:only-of-type {\n",
              "        vertical-align: middle;\n",
              "    }\n",
              "\n",
              "    .dataframe tbody tr th {\n",
              "        vertical-align: top;\n",
              "    }\n",
              "\n",
              "    .dataframe thead th {\n",
              "        text-align: right;\n",
              "    }\n",
              "</style>\n",
              "<table border=\"1\" class=\"dataframe\">\n",
              "  <thead>\n",
              "    <tr style=\"text-align: right;\">\n",
              "      <th></th>\n",
              "      <th>EmailSentDateTimePst</th>\n",
              "    </tr>\n",
              "  </thead>\n",
              "  <tbody>\n",
              "    <tr>\n",
              "      <th>0</th>\n",
              "      <td>2019-07-31 08:13:25.817000-07:00</td>\n",
              "    </tr>\n",
              "    <tr>\n",
              "      <th>1</th>\n",
              "      <td>2019-08-01 19:15:52.447000-07:00</td>\n",
              "    </tr>\n",
              "    <tr>\n",
              "      <th>2</th>\n",
              "      <td>2019-08-07 09:21:37.293000-07:00</td>\n",
              "    </tr>\n",
              "    <tr>\n",
              "      <th>3</th>\n",
              "      <td>2019-08-07 09:38:03.323000-07:00</td>\n",
              "    </tr>\n",
              "    <tr>\n",
              "      <th>4</th>\n",
              "      <td>2019-08-12 04:45:43.293000-07:00</td>\n",
              "    </tr>\n",
              "    <tr>\n",
              "      <th>...</th>\n",
              "      <td>...</td>\n",
              "    </tr>\n",
              "    <tr>\n",
              "      <th>474158</th>\n",
              "      <td>2021-04-07 12:54:26.493000-07:00</td>\n",
              "    </tr>\n",
              "    <tr>\n",
              "      <th>474159</th>\n",
              "      <td>2021-04-08 09:49:23.040000-07:00</td>\n",
              "    </tr>\n",
              "    <tr>\n",
              "      <th>474160</th>\n",
              "      <td>2021-04-01 14:42:34.750000-07:00</td>\n",
              "    </tr>\n",
              "    <tr>\n",
              "      <th>474161</th>\n",
              "      <td>2021-04-04 11:42:25.683000-07:00</td>\n",
              "    </tr>\n",
              "    <tr>\n",
              "      <th>474162</th>\n",
              "      <td>2021-04-12 22:55:33.347000-07:00</td>\n",
              "    </tr>\n",
              "  </tbody>\n",
              "</table>\n",
              "<p>474163 rows × 1 columns</p>\n",
              "</div>"
            ],
            "text/plain": [
              "                   EmailSentDateTimePst\n",
              "0      2019-07-31 08:13:25.817000-07:00\n",
              "1      2019-08-01 19:15:52.447000-07:00\n",
              "2      2019-08-07 09:21:37.293000-07:00\n",
              "3      2019-08-07 09:38:03.323000-07:00\n",
              "4      2019-08-12 04:45:43.293000-07:00\n",
              "...                                 ...\n",
              "474158 2021-04-07 12:54:26.493000-07:00\n",
              "474159 2021-04-08 09:49:23.040000-07:00\n",
              "474160 2021-04-01 14:42:34.750000-07:00\n",
              "474161 2021-04-04 11:42:25.683000-07:00\n",
              "474162 2021-04-12 22:55:33.347000-07:00\n",
              "\n",
              "[474163 rows x 1 columns]"
            ]
          },
          "execution_count": 11,
          "metadata": {},
          "output_type": "execute_result"
        }
      ],
      "source": [
        "#2: Earliest and most recent dates of emails sent in California time\n",
        "import pytz\n",
        "#Pull variable of interest (date email sent)\n",
        "dates_PST =  pd.DataFrame(df_emails, columns=['EmailSentDateTimeUtc'])\n",
        "#Convert time from UTC to PST \n",
        "dates_PST['EmailSentDateTimeUtc']=pd.to_datetime(dates_PST['EmailSentDateTimeUtc'])  \n",
        "dates_PST.set_index('EmailSentDateTimeUtc',drop=True, inplace=True)\n",
        "dates_PST.index  = dates_PST.index.tz_localize('UTC').tz_convert('US/Pacific')\n",
        "dates_PST.reset_index(inplace=True)\n",
        "#Rename column\n",
        "dates_PST = dates_PST.rename(columns = {'EmailSentDateTimeUtc':'EmailSentDateTimePst'})\n",
        "#Output\n",
        "dates_PST"
      ]
    },
    {
      "cell_type": "code",
      "execution_count": null,
      "id": "73ef5727",
      "metadata": {
        "id": "73ef5727",
        "outputId": "bdfc044f-9516-4425-96b5-e8e3187a5afb"
      },
      "outputs": [
        {
          "data": {
            "text/plain": [
              "63301.000    312\n",
              "33801.000    310\n",
              "34210.000    299\n",
              "38301.000    295\n",
              "67460.000    285\n",
              "95971.000    277\n",
              "42301.000    266\n",
              "36104.000    254\n",
              "40769.000    234\n",
              "85225.000    229\n",
              "Name: ZipCode, dtype: int64"
            ]
          },
          "execution_count": 8,
          "metadata": {},
          "output_type": "execute_result"
        }
      ],
      "source": [
        "#3: 10 zip codes that receive the most emails and how many\n",
        "zipcodes = df_emails['ZipCode'].value_counts()\n",
        "zipcodes.head(10)"
      ]
    },
    {
      "cell_type": "code",
      "execution_count": null,
      "id": "f2056820",
      "metadata": {
        "scrolled": false,
        "id": "f2056820",
        "outputId": "1966cc04-0130-4f48-c80c-cc3c08bc54ed"
      },
      "outputs": [
        {
          "data": {
            "text/plain": [
              "<AxesSubplot:xlabel='Year-Month'>"
            ]
          },
          "execution_count": 14,
          "metadata": {},
          "output_type": "execute_result"
        },
        {
          "data": {
            "image/png": "[encoded data removed]",
            "text/plain": [
              "<Figure size 432x288 with 1 Axes>"
            ]
          },
          "metadata": {
            "needs_background": "light"
          },
          "output_type": "display_data"
        }
      ],
      "source": [
        "#4a: Plot of total distinct users who were sent at least 1 email by month and year\n",
        "#Pull variables of interest (date email sent in PST and UserId)\n",
        "df_emails['EmailSentDateTimePst'] = dates_PST['EmailSentDateTimePst'].astype(str)\n",
        "df1 = pd.DataFrame(df_emails, columns=['UserId','EmailSentDateTimePst'])\n",
        "#Create column that displays only the month and year of email sent and delete the original\n",
        "df1['YearMonthEmailSentPst'] = df1['EmailSentDateTimePst'].str[:7]\n",
        "del df1[\"EmailSentDateTimePst\"]\n",
        "#Remove duplicates so that a distinct user is only counted once per month\n",
        "df1=df1.drop_duplicates() \n",
        "#Create dataframe that displays the total number of distinct users sent an email each month in ascending order\n",
        "df1=pd.DataFrame(df1.YearMonthEmailSentPst.value_counts(), columns=[\"YearMonthEmailSentPst\"])\n",
        "df1.reset_index(inplace=True)\n",
        "df1 = df1.sort_values(by=\"YearMonthEmailSentPst\",ascending=True)\n",
        "#Rename columns\n",
        "df1 = df1.rename(columns = {'YearMonthEmailSentPst':'Total Users Sent at Least One Email'})\n",
        "df1 = df1.rename(columns = {'index':'Year-Month'})\n",
        "#Output\n",
        "df1.plot(x='Year-Month',y='Total Users Sent at Least One Email',kind=\"line\")"
      ]
    },
    {
      "cell_type": "code",
      "execution_count": null,
      "id": "c351748b",
      "metadata": {
        "id": "c351748b",
        "outputId": "52bf6a1a-0bcc-41a8-ba05-32e383f11a6b"
      },
      "outputs": [
        {
          "data": {
            "text/plain": [
              "<AxesSubplot:xlabel='Year-Month'>"
            ]
          },
          "execution_count": 22,
          "metadata": {},
          "output_type": "execute_result"
        },
        {
          "data": {
            "image/png": "[encoded data removed]",
            "text/plain": [
              "<Figure size 432x288 with 1 Axes>"
            ]
          },
          "metadata": {
            "needs_background": "light"
          },
          "output_type": "display_data"
        }
      ],
      "source": [
        "#4b: Plot of the monthly percentage of emails that were sent and acted on within the same day\n",
        "import numpy as np\n",
        "#Convert EmailClickedDateTimeUtc to PST (EmailSentDateTimeUtc was already converted above) so that time is consistent\n",
        "dates2_PST =  pd.DataFrame(df_emails, columns=['EmailClickedDateTimeUtc'])\n",
        "dates2_PST['EmailClickedDateTimeUtc']=pd.to_datetime(dates2_PST['EmailClickedDateTimeUtc'])\n",
        "dates2_PST.set_index('EmailClickedDateTimeUtc',drop=True, inplace=True)\n",
        "dates2_PST.index  = dates2_PST.index.tz_localize('UTC').tz_convert('US/Pacific')\n",
        "dates2_PST.reset_index(inplace=True)\n",
        "dates2_PST = dates2_PST.rename(columns = {'EmailClickedDateTimeUtc':'EmailClickedDateTimePst'})\n",
        "#Pull variables of interest (date email sent in PST and date email acted on in PST)\n",
        "df_emails['EmailClickedDateTimePst'] = dates2_PST['EmailClickedDateTimePst'].astype(str)\n",
        "df2 = pd.DataFrame(df_emails, columns=['EmailSentDateTimePst','EmailClickedDateTimePst'])\n",
        "#Create column that displays only the month and year for each time variable\n",
        "df2['YearMonthEmailClickedPst'] = df2['EmailClickedDateTimePst'].str[:7] #creates column that only shows year-month\n",
        "df2['YearMonthEmailSentPst'] = df2['EmailSentDateTimePst'].str[:7]\n",
        "#Obtain total number of emails sent each month\n",
        "df2a = pd.DataFrame(df2.YearMonthEmailSentPst.value_counts(), columns=[\"YearMonthEmailSentPst\"])\n",
        "df2a.reset_index(inplace=True)\n",
        "df2a = df2a.rename(columns = {'index':'Year-Month'})\n",
        "df2a = df2a.rename(columns = {'YearMonthEmailSentPst':'TotalEmailsSentPerMonth'})\n",
        "df2a = df2a.sort_values(by=\"Year-Month\",ascending=True)\n",
        "#Create column that displays only the day month and year for each time variable\n",
        "df2['YearMonthEmailClickedPst2'] = df2['EmailClickedDateTimePst'].str[:10] #creates column that only shows year-month\n",
        "df2['YearMonthEmailSentPst2'] = df2['EmailSentDateTimePst'].str[:10]\n",
        "#Obtain number of emails that were clicked on the same day they were sent each month\n",
        "df2['EmailsClickedSameDayAsSent'] = np.where(df2['YearMonthEmailClickedPst2']==df2['YearMonthEmailSentPst2'], 1,np.nan) \n",
        "df2b = pd.DataFrame(df2.groupby([\"YearMonthEmailSentPst\"]).count().sort_values([\"EmailsClickedSameDayAsSent\"], ascending=False),columns=['EmailsClickedSameDayAsSent'])\n",
        "df2b.reset_index(inplace=True)\n",
        "df2b = df2b.sort_values(by=\"YearMonthEmailSentPst\",ascending=True)\n",
        "#Pull new variables of interest and create column with necessary percentage\n",
        "df3 = pd.DataFrame(df2a, columns=['Year-Month','TotalEmailsSentPerMonth'])\n",
        "df3['EmailsClickedSameDayAsSent'] = df2b['EmailsClickedSameDayAsSent']\n",
        "df3['Percentage of Emails Sent and Clicked on Within Same Day'] = df3['EmailsClickedSameDayAsSent']/df3['TotalEmailsSentPerMonth']\n",
        "#Output\n",
        "df3.plot(x='Year-Month',y='Percentage of Emails Sent and Clicked on Within Same Day',kind=\"line\")"
      ]
    }
  ],
  "metadata": {
    "kernelspec": {
      "display_name": "Python 3 (ipykernel)",
      "language": "python",
      "name": "python3"
    },
    "language_info": {
      "codemirror_mode": {
        "name": "ipython",
        "version": 3
      },
      "file_extension": ".py",
      "mimetype": "text/x-python",
      "name": "python",
      "nbconvert_exporter": "python",
      "pygments_lexer": "ipython3",
      "version": "3.9.7"
    },
    "colab": {
      "name": "MyFieldLevelCode.ipynb",
      "provenance": [],
      "collapsed_sections": []
    }
  },
  "nbformat": 4,
  "nbformat_minor": 5
}